{
 "cells": [
  {
   "cell_type": "code",
   "execution_count": 2,
   "metadata": {},
   "outputs": [],
   "source": [
    "import numpy as np\n",
    "import pandas as pd\n",
    "import matplotlib as plt\n",
    "tmodulo_ ='/Users/andrea.peralta/Desktop/Py-DS-BOSCH-Python para Ciencia de Datos/Py-DS-BOSCH-PythonCD/Challenge/conjunto_de_datos_enif_2021_csv/conjunto_de_datos_tmodulo_enif_2021/conjunto_de_datos/conjunto_de_datos_tmodulo_enif_2021.csv'\n",
    "tsdem_ = '/Users/andrea.peralta/Desktop/Py-DS-BOSCH-Python para Ciencia de Datos/Py-DS-BOSCH-PythonCD/Challenge/conjunto_de_datos_enif_2021_csv/conjunto_de_datos_tsdem_enif_2021/conjunto_de_datos/conjunto_de_datos_tsdem_enif_2021.csv'"
   ]
  },
  {
   "cell_type": "markdown",
   "metadata": {},
   "source": [
    "### **Importación de Datos**\n",
    "* Obtenga los datos de la \"Encuesta Nacional de Inclusión Financiera (ENIF) 2021\", en la pestaña \"Datos Abiertos\".\n",
    "* Se recomienda leer las nota técnica y la metodología localizada en el pagina\n",
    "* Se suguiere usar la URL para descargar los datos y descomprimirlos\n",
    "* Leer los conjuntos de datos \"tmodulo\" y \"tsdem\"\n",
    "* Usar metodos de pandas para conocer su tipo de objecto para cada dataframe"
   ]
  },
  {
   "cell_type": "code",
   "execution_count": 3,
   "metadata": {},
   "outputs": [
    {
     "name": "stdout",
     "output_type": "stream",
     "text": [
      "El tipo de objeto de tmodulo es: <class 'pandas.core.frame.DataFrame'>\n",
      "El tipo de objeto de tsdem es: <class 'pandas.core.frame.DataFrame'>\n"
     ]
    }
   ],
   "source": [
    "# Leer los conjuntos de datos\n",
    "tmodulo = pd.read_csv(tmodulo_)  # Asegúrate de poner la ruta correcta\n",
    "tsdem = pd.read_csv(tsdem_)  # Asegúrate de poner la ruta correcta\n",
    "\n",
    "# Verificar el tipo de objeto\n",
    "tipo_tmodulo = type(tmodulo)\n",
    "tipo_tsdem = type(tsdem)\n",
    "\n",
    "print(f\"El tipo de objeto de tmodulo es: {tipo_tmodulo}\")\n",
    "print(f\"El tipo de objeto de tsdem es: {tipo_tsdem}\")"
   ]
  },
  {
   "cell_type": "markdown",
   "metadata": {},
   "source": [
    "### **Limpieza de Datos**\n",
    "* Leer los cátalogos a través de una funcion (deberá desarrollar esta funcion) para cada dataframe \"tmodulo\" y \"tsdem\"\n",
    "    * Dentro de los cátalogos de \"tsdem\"\n",
    "        * En el cátalogo \"edad\",remover las filas con el cve \"Años cumplidos\"\n",
    "    * Con el cátalogo \"tmodulo\"\n",
    "        * En el cátalogo \"edad\",remover las filas con el cve \"Años cumplidos\"\n",
    "        * En el cátalogo \"p12_4\",remover las filas con el cve \"Meses\"\n",
    "        * En el cátalogo \"p3_8a\",remover las filas con el cve \"Ingresos\"\n",
    "        * En el cátalogo \"p10_9_2\",remover las filas con el cve \"Minutos\"\n",
    "        * En el cátalogo \"p5_12\",remover las filas con el cve \"Número de veces\"\n",
    "        * En el cátalogo \"p10_6_1\",remover las filas con el cve \"Horas\"\n",
    "        * En el cátalogo \"p10_9_1\",remover las filas con el cve \"Horas\"\n",
    "        * En el cátalogo \"p10_3_1\",remover las filas con el cve \"Horas\"\n",
    "        * En el cátalogo \"p10_6_2\",remover las filas con el cve \"Minutos\"\n",
    "        * En el cátalogo \"p6_9\",remover las filas con el cve \"Número de veces\"\n",
    "        * En el cátalogo \"p10_3_2\",remover las filas con el cve \"Minutos\"\n",
    "* Remplazar los valores numéricos con los valores categóricos proporcionados por los cátalogos a través de una funcion\n",
    "* Para \"tmodulo\" crear una columna de \"rango de ingresos\" usando una funcion\n",
    "* Para \"tmodulo\" crear una columna de \"rango de edad\" usando una funcion\n",
    "* Para \"tsdem\" removel el texto entre parentesis en la columna \"REGION\""
   ]
  },
  {
   "cell_type": "code",
   "execution_count": null,
   "metadata": {},
   "outputs": [],
   "source": [
    "import pandas as pd\n",
    "\n",
    "def cargar_catalogos():\n",
    "    catalogos = {}\n",
    "\n",
    "    # Cargar catálogos\n",
    "    catalogos['edad'] = pd.read_csv('ruta_del_catalogo/edad.csv')\n",
    "    catalogos['p12_4'] = pd.read_csv('ruta_del_catalogo/p12_4.csv')\n",
    "    catalogos['p3_8a'] = pd.read_csv('ruta_del_catalogo/p3_8a.csv')\n",
    "    # Agrega más catálogos según sea necesario\n",
    "\n",
    "    return catalogos\n",
    "\n",
    "def cargar_dataframes():\n",
    "    tmodulo = pd.read_csv('ruta_del_archivo/tmodulo.csv')\n",
    "    tsdem = pd.read_csv('ruta_del_archivo/tsdem.csv')\n",
    "    return tmodulo, tsdem"
   ]
  },
  {
   "cell_type": "code",
   "execution_count": null,
   "metadata": {},
   "outputs": [],
   "source": [
    "def remover_filas_con_cve(df, catalogo, cve):\n",
    "    df = df[~df['cve'].isin(catalogo[catalogo['cve'] == cve]['cve'])]\n",
    "    return df\n",
    "\n",
    "def reemplazar_valores_numericos(df, catalogo, columna):\n",
    "    df[columna] = df[columna].map(catalogo.set_index('cve')['descripcion'])\n",
    "    return df\n",
    "\n",
    "def crear_rango_ingresos(df):\n",
    "    # Define tu lógica para crear el rango de ingresos aquí\n",
    "    return df\n",
    "\n",
    "def crear_rango_edad(df):\n",
    "    # Define tu lógica para crear el rango de edad aquí\n",
    "    return df\n",
    "\n",
    "def remover_texto_entre_parentesis(df, columna):\n",
    "    df[columna] = df[columna].str.replace(r\"\\(.*\\)\", \"\")\n",
    "    return df"
   ]
  },
  {
   "cell_type": "code",
   "execution_count": null,
   "metadata": {},
   "outputs": [],
   "source": [
    "catalogos = cargar_catalogos()\n",
    "tmodulo, tsdem = cargar_dataframes()\n",
    "\n",
    "tsdem['edad'] = remover_filas_con_cve(tsdem['edad'], catalogos['edad'], 'Años cumplidos')\n",
    "# Aplica las funciones restantes según lo necesites"
   ]
  }
 ],
 "metadata": {
  "kernelspec": {
   "display_name": "Python 3",
   "language": "python",
   "name": "python3"
  },
  "language_info": {
   "codemirror_mode": {
    "name": "ipython",
    "version": 3
   },
   "file_extension": ".py",
   "mimetype": "text/x-python",
   "name": "python",
   "nbconvert_exporter": "python",
   "pygments_lexer": "ipython3",
   "version": "3.11.5"
  },
  "orig_nbformat": 4
 },
 "nbformat": 4,
 "nbformat_minor": 2
}
