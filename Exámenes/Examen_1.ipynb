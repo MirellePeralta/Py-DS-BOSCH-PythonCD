{
  "nbformat": 4,
  "nbformat_minor": 0,
  "metadata": {
    "colab": {
      "provenance": []
    },
    "kernelspec": {
      "name": "python3",
      "display_name": "Python 3"
    },
    "language_info": {
      "name": "python"
    }
  },
  "cells": [
    {
      "cell_type": "code",
      "execution_count": 5,
      "metadata": {
        "colab": {
          "base_uri": "https://localhost:8080/"
        },
        "id": "VeU5BwWZgh_L",
        "outputId": "4fc33f61-9d8f-4c2b-8597-3a8bb03248c7"
      },
      "outputs": [
        {
          "output_type": "execute_result",
          "data": {
            "text/plain": [
              "1103"
            ]
          },
          "metadata": {},
          "execution_count": 5
        }
      ],
      "source": [
        "# @title Descargar datos\n",
        "import requests as req\n",
        "\n",
        "URL = 'https://gist.githubusercontent.com/javierIA/06da309a089278be218daf66e02875ab/raw/d0bfabd94c27ad954cba63683d04d460660387f8/salarios.csv'\n",
        "file = req.get(URL, allow_redirects=True)\n",
        "\n",
        "open('salarios.csv', 'wb').write(file.content)"
      ]
    },
    {
      "cell_type": "code",
      "source": [
        "import pandas as pd\n",
        "\n",
        "# Cargar los datos en la variable df\n",
        "df = pd.read_csv('salarios.csv')\n",
        "\n",
        "# Verificar que los datos se hayan cargado correctamente\n",
        "print(df)"
      ],
      "metadata": {
        "colab": {
          "base_uri": "https://localhost:8080/"
        },
        "id": "Bgd9fzbqgpU3",
        "outputId": "77bb38f1-048b-4f2f-d3ed-caf366225522"
      },
      "execution_count": 6,
      "outputs": [
        {
          "output_type": "stream",
          "name": "stdout",
          "text": [
            "    Periodo  Unnamed: 1     Total  1_salario_minimo  2_salario_minimo  \\\n",
            "0      2017           1  51859895           7442463          14262160   \n",
            "1      2017           2  52198611           7566408          14118747   \n",
            "2      2017           3  52438646           7355639          13682660   \n",
            "3      2017           4  52865845           7926332          14215650   \n",
            "4      2018           1  52876916           8645273          15253962   \n",
            "5      2018           2  53785257           8705172          15287116   \n",
            "6      2018           3  54027997           8547030          15112727   \n",
            "7      2018           4  54194608           8663936          15038091   \n",
            "8      2019           1  54152266          10642543          17141160   \n",
            "9      2019           2  54936719          10891594          17552729   \n",
            "10     2019           3  55201939          10948633          17531173   \n",
            "11     2019           4  55683450          11060229          17578323   \n",
            "12     2020           1  55352304          12533197          19781852   \n",
            "\n",
            "    3_salario_minimo  5_salario_minimo  mas de 5_salario_minimo  \\\n",
            "0           11218801           6601395                  2704520   \n",
            "1           10939869           6555065                  2776570   \n",
            "2           11081749           6695729                  2722520   \n",
            "3           10531765           6695812                  2429320   \n",
            "4            9754514           6707166                  2272438   \n",
            "5            9739678           6936174                  2419355   \n",
            "6            9852659           6908797                  2405725   \n",
            "7           10001777           6921736                  2456938   \n",
            "8            9818858           4522674                  1741491   \n",
            "9            9919901           4437659                  1831552   \n",
            "10          10038381           4629662                  1810804   \n",
            "11          10056100           4972246                  2010414   \n",
            "12           8613773           3715640                  1534613   \n",
            "\n",
            "    No recibe ingresos  No especificado  \n",
            "0              3133797          6496759  \n",
            "1              3337521          6904431  \n",
            "2              3437846          7462503  \n",
            "3              3421033          7645933  \n",
            "4              2965555          7278008  \n",
            "5              3254898          7442864  \n",
            "6              3480221          7720838  \n",
            "7              3344211          7767919  \n",
            "8              3123910          7161630  \n",
            "9              3219868          7083416  \n",
            "10             3485828          6757458  \n",
            "11             3358459          6647679  \n",
            "12             2908620          6264609  \n"
          ]
        }
      ]
    },
    {
      "cell_type": "code",
      "source": [
        "# Muestra las primeras 5 filas del DataFrame\n",
        "print(df.head())"
      ],
      "metadata": {
        "colab": {
          "base_uri": "https://localhost:8080/"
        },
        "id": "kWA0WladkYOh",
        "outputId": "deee7d3b-83bc-42d8-9402-52b71be21d68"
      },
      "execution_count": 7,
      "outputs": [
        {
          "output_type": "stream",
          "name": "stdout",
          "text": [
            "   Periodo  Unnamed: 1     Total  1_salario_minimo  2_salario_minimo  \\\n",
            "0     2017           1  51859895           7442463          14262160   \n",
            "1     2017           2  52198611           7566408          14118747   \n",
            "2     2017           3  52438646           7355639          13682660   \n",
            "3     2017           4  52865845           7926332          14215650   \n",
            "4     2018           1  52876916           8645273          15253962   \n",
            "\n",
            "   3_salario_minimo  5_salario_minimo  mas de 5_salario_minimo  \\\n",
            "0          11218801           6601395                  2704520   \n",
            "1          10939869           6555065                  2776570   \n",
            "2          11081749           6695729                  2722520   \n",
            "3          10531765           6695812                  2429320   \n",
            "4           9754514           6707166                  2272438   \n",
            "\n",
            "   No recibe ingresos  No especificado  \n",
            "0             3133797          6496759  \n",
            "1             3337521          6904431  \n",
            "2             3437846          7462503  \n",
            "3             3421033          7645933  \n",
            "4             2965555          7278008  \n"
          ]
        }
      ]
    },
    {
      "cell_type": "code",
      "source": [
        "# @title Estadistica de daframe\n",
        "print(\"\\nEstadísticas básicas del DataFrame:\")\n",
        "\n",
        "estadisticas_basicas = df.describe()\n",
        "print(estadisticas_basicas)"
      ],
      "metadata": {
        "colab": {
          "base_uri": "https://localhost:8080/"
        },
        "id": "nNLvJuwNkwfA",
        "outputId": "f5a9c7d3-90af-47c9-861b-741ea7dcaa8e"
      },
      "execution_count": 8,
      "outputs": [
        {
          "output_type": "stream",
          "name": "stdout",
          "text": [
            "\n",
            "Estadísticas básicas del DataFrame:\n",
            "           Periodo  Unnamed: 1         Total  1_salario_minimo  \\\n",
            "count    13.000000   13.000000  1.300000e+01      1.300000e+01   \n",
            "mean   2018.153846    2.384615  5.381342e+07      9.302188e+06   \n",
            "std       0.987096    1.192928  1.273143e+06      1.695160e+06   \n",
            "min    2017.000000    1.000000  5.185990e+07      7.355639e+06   \n",
            "25%    2017.000000    1.000000  5.286584e+07      7.926332e+06   \n",
            "50%    2018.000000    2.000000  5.402800e+07      8.663936e+06   \n",
            "75%    2019.000000    3.000000  5.493672e+07      1.089159e+07   \n",
            "max    2020.000000    4.000000  5.568345e+07      1.253320e+07   \n",
            "\n",
            "       2_salario_minimo  3_salario_minimo  5_salario_minimo  \\\n",
            "count      1.300000e+01      1.300000e+01      1.300000e+01   \n",
            "mean       1.588895e+07      1.012060e+07      5.869212e+06   \n",
            "std        1.838962e+06      6.920934e+05      1.198729e+06   \n",
            "min        1.368266e+07      8.613773e+06      3.715640e+06   \n",
            "25%        1.426216e+07      9.818858e+06      4.629662e+06   \n",
            "50%        1.525396e+07      1.000178e+07      6.601395e+06   \n",
            "75%        1.753117e+07      1.053176e+07      6.707166e+06   \n",
            "max        1.978185e+07      1.121880e+07      6.936174e+06   \n",
            "\n",
            "       mas de 5_salario_minimo  No recibe ingresos  No especificado  \n",
            "count             1.300000e+01        1.300000e+01     1.300000e+01  \n",
            "mean              2.239712e+06        3.267059e+06     7.125696e+06  \n",
            "std               4.112917e+05        1.882936e+05     4.854288e+05  \n",
            "min               1.534613e+06        2.908620e+06     6.264609e+06  \n",
            "25%               1.831552e+06        3.133797e+06     6.757458e+06  \n",
            "50%               2.405725e+06        3.337521e+06     7.161630e+06  \n",
            "75%               2.456938e+06        3.421033e+06     7.462503e+06  \n",
            "max               2.776570e+06        3.485828e+06     7.767919e+06  \n"
          ]
        }
      ]
    },
    {
      "cell_type": "code",
      "source": [
        "# Filtrar los datos de la columna 'periodo' mayores a 2018\n",
        "datos_mayor_2018 = df[df['Periodo'] > 2018]\n",
        "\n",
        "# Mostrar los datos filtrados\n",
        "print(datos_mayor_2018)"
      ],
      "metadata": {
        "colab": {
          "base_uri": "https://localhost:8080/"
        },
        "id": "RNoyRZZelPR0",
        "outputId": "64ff850a-7615-422a-dd38-882e991243df"
      },
      "execution_count": 9,
      "outputs": [
        {
          "output_type": "stream",
          "name": "stdout",
          "text": [
            "    Periodo  Unnamed: 1     Total  1_salario_minimo  2_salario_minimo  \\\n",
            "8      2019           1  54152266          10642543          17141160   \n",
            "9      2019           2  54936719          10891594          17552729   \n",
            "10     2019           3  55201939          10948633          17531173   \n",
            "11     2019           4  55683450          11060229          17578323   \n",
            "12     2020           1  55352304          12533197          19781852   \n",
            "\n",
            "    3_salario_minimo  5_salario_minimo  mas de 5_salario_minimo  \\\n",
            "8            9818858           4522674                  1741491   \n",
            "9            9919901           4437659                  1831552   \n",
            "10          10038381           4629662                  1810804   \n",
            "11          10056100           4972246                  2010414   \n",
            "12           8613773           3715640                  1534613   \n",
            "\n",
            "    No recibe ingresos  No especificado  \n",
            "8              3123910          7161630  \n",
            "9              3219868          7083416  \n",
            "10             3485828          6757458  \n",
            "11             3358459          6647679  \n",
            "12             2908620          6264609  \n"
          ]
        }
      ]
    },
    {
      "cell_type": "code",
      "source": [
        "# Mostrar las columnas antes de la modificación\n",
        "print(\"Columnas antes de la modificación:\")\n",
        "print(df.columns)\n",
        "\n",
        "# Mostrar las 5 primeras columnas del DataFrame con los nombres\n",
        "print(\"\\nDataFrame:\")\n",
        "print(df.head())"
      ],
      "metadata": {
        "colab": {
          "base_uri": "https://localhost:8080/"
        },
        "id": "2zlo-bahmv4B",
        "outputId": "081b0d50-8b36-4e90-bde8-a6f711536fa4"
      },
      "execution_count": 10,
      "outputs": [
        {
          "output_type": "stream",
          "name": "stdout",
          "text": [
            "Columnas antes de la modificación:\n",
            "Index(['Periodo', 'Unnamed: 1', 'Total', '1_salario_minimo',\n",
            "       '2_salario_minimo', '3_salario_minimo', '5_salario_minimo',\n",
            "       'mas de 5_salario_minimo', 'No recibe ingresos', 'No especificado'],\n",
            "      dtype='object')\n",
            "\n",
            "DataFrame:\n",
            "   Periodo  Unnamed: 1     Total  1_salario_minimo  2_salario_minimo  \\\n",
            "0     2017           1  51859895           7442463          14262160   \n",
            "1     2017           2  52198611           7566408          14118747   \n",
            "2     2017           3  52438646           7355639          13682660   \n",
            "3     2017           4  52865845           7926332          14215650   \n",
            "4     2018           1  52876916           8645273          15253962   \n",
            "\n",
            "   3_salario_minimo  5_salario_minimo  mas de 5_salario_minimo  \\\n",
            "0          11218801           6601395                  2704520   \n",
            "1          10939869           6555065                  2776570   \n",
            "2          11081749           6695729                  2722520   \n",
            "3          10531765           6695812                  2429320   \n",
            "4           9754514           6707166                  2272438   \n",
            "\n",
            "   No recibe ingresos  No especificado  \n",
            "0             3133797          6496759  \n",
            "1             3337521          6904431  \n",
            "2             3437846          7462503  \n",
            "3             3421033          7645933  \n",
            "4             2965555          7278008  \n"
          ]
        }
      ]
    },
    {
      "cell_type": "code",
      "source": [
        "# Reemplazar el nombre de la segunda columna por \"Trimestre\"\n",
        "df.rename(columns={\"Unnamed: 1\": \"Trimestre\"}, inplace=True)\n",
        "\n",
        "# Mostrar las columnas después de la modificación\n",
        "print(\"\\nColumnas después de la modificación:\")\n",
        "print(df.columns)"
      ],
      "metadata": {
        "colab": {
          "base_uri": "https://localhost:8080/"
        },
        "id": "GLpYLgIlm3Ll",
        "outputId": "10f902f5-4e46-4fe1-e6be-55e1e88ae9d9"
      },
      "execution_count": 11,
      "outputs": [
        {
          "output_type": "stream",
          "name": "stdout",
          "text": [
            "\n",
            "Columnas después de la modificación:\n",
            "Index(['Periodo', 'Trimestre', 'Total', '1_salario_minimo', '2_salario_minimo',\n",
            "       '3_salario_minimo', '5_salario_minimo', 'mas de 5_salario_minimo',\n",
            "       'No recibe ingresos', 'No especificado'],\n",
            "      dtype='object')\n"
          ]
        }
      ]
    },
    {
      "cell_type": "code",
      "source": [
        "# Calcular el total de ingresos para cada año y período (agrupar por \"Periodo\")\n",
        "total_ingresos = df.groupby(['Periodo'])['Total'].sum()\n",
        "\n",
        "# Mostrar los resultados\n",
        "print(total_ingresos)"
      ],
      "metadata": {
        "colab": {
          "base_uri": "https://localhost:8080/"
        },
        "id": "-yt0tQkko362",
        "outputId": "b63ed45c-2764-456e-ceef-53072eaebb6e"
      },
      "execution_count": 12,
      "outputs": [
        {
          "output_type": "stream",
          "name": "stdout",
          "text": [
            "Periodo\n",
            "2017    209362997\n",
            "2018    214884778\n",
            "2019    219974374\n",
            "2020     55352304\n",
            "Name: Total, dtype: int64\n"
          ]
        }
      ]
    },
    {
      "cell_type": "code",
      "source": [
        "# Mostrar los datos nulos en el DataFrame\n",
        "datos_nulos = df.isnull().sum()\n",
        "print(datos_nulos)"
      ],
      "metadata": {
        "colab": {
          "base_uri": "https://localhost:8080/"
        },
        "id": "eY1QI3gfpanS",
        "outputId": "8a4919f0-7c2c-4fd7-fcf6-0398f0ce7001"
      },
      "execution_count": 13,
      "outputs": [
        {
          "output_type": "stream",
          "name": "stdout",
          "text": [
            "Periodo                    0\n",
            "Trimestre                  0\n",
            "Total                      0\n",
            "1_salario_minimo           0\n",
            "2_salario_minimo           0\n",
            "3_salario_minimo           0\n",
            "5_salario_minimo           0\n",
            "mas de 5_salario_minimo    0\n",
            "No recibe ingresos         0\n",
            "No especificado            0\n",
            "dtype: int64\n"
          ]
        }
      ]
    },
    {
      "cell_type": "code",
      "source": [
        "# Predicción del Total de Ingresos para 2020\n",
        "\n",
        "# Valor real del total de ingresos para el primer trimestre de 2020\n",
        "ingresos_primer_trimestre_2020 = 55352304\n",
        "\n",
        "# Proyectar el total de ingresos para el año completo (2020)\n",
        "proyeccion_ingresos_anual = ingresos_primer_trimestre_2020 * 4\n",
        "\n",
        "# Mostrar la predicción de ingresos anual\n",
        "# print(f\"Predicción del total de ingresos para el 2020: {proyeccion_ingresos_anual}\")"
      ],
      "metadata": {
        "id": "uSvZjr2Nz_WJ"
      },
      "execution_count": 14,
      "outputs": []
    },
    {
      "cell_type": "code",
      "source": [
        "ingresos_totales_hasta_2020 = proyeccion_ingresos_anual\n",
        "\n",
        "# Añadir la predicción para 2020 a los resultados\n",
        "total_ingresos.loc[2020] = ingresos_totales_hasta_2020\n",
        "\n",
        "# print(total_ingresos)"
      ],
      "metadata": {
        "id": "FDDZJrYL1Ml2"
      },
      "execution_count": 15,
      "outputs": []
    },
    {
      "cell_type": "code",
      "source": [
        "import matplotlib.pyplot as plt\n",
        "\n",
        "# Graficar los ingresos totales por período usando un gráfico de barras\n",
        "plt.figure(figsize=(11, 6))\n",
        "total_ingresos.plot(kind='bar', width=0.8)\n",
        "plt.xlabel('Período')\n",
        "plt.ylabel('Ingresos Totales')\n",
        "plt.title('Ingresos Totales por Período')\n",
        "plt.xticks(rotation=0)\n",
        "plt.subplots_adjust(wspace=1000)\n",
        "plt.show()\n"
      ],
      "metadata": {
        "colab": {
          "base_uri": "https://localhost:8080/",
          "height": 565
        },
        "id": "EPX_VLEeqnk9",
        "outputId": "7ae55d72-95e8-4801-a81b-2e6997068f4f"
      },
      "execution_count": 17,
      "outputs": [
        {
          "output_type": "display_data",
          "data": {
            "text/plain": [
              "<Figure size 1100x600 with 1 Axes>"
            ],
            "image/png": "[encoded data removed]"
          },
          "metadata": {}
        }
      ]
    },
    {
      "cell_type": "code",
      "source": [
        "# Convertir los salarios a dólares (suponiendo que 1 dólar = 20 unidades de la moneda local)\n",
        "tipo_cambio = 20\n",
        "df['Total_dolares'] = df['Total'] / tipo_cambio\n",
        "\n",
        "df['1_salario_minimo_dolares'] = df['1_salario_minimo'] / tipo_cambio\n",
        "\n",
        "df['2_salario_minimo_dolares'] = df['2_salario_minimo'] / tipo_cambio\n",
        "\n",
        "df['3_salario_minimo_dolares'] = df['3_salario_minimo'] / tipo_cambio\n",
        "\n",
        "df['5_salario_minimo_dolares'] = df['5_salario_minimo'] / tipo_cambio\n",
        "\n",
        "# df['mas de 5_salario_minimo_dolares'] = df['mas de 5_salario_minimo'] / tipo_cambio\n",
        "\n",
        "# Mostrar el DataFrame con los salarios convertidos a dólares\n",
        "print(df)\n"
      ],
      "metadata": {
        "colab": {
          "base_uri": "https://localhost:8080/"
        },
        "id": "FtSNAebFrqOj",
        "outputId": "c7753984-2614-4dac-c636-21ec800ca8e6"
      },
      "execution_count": 45,
      "outputs": [
        {
          "output_type": "stream",
          "name": "stdout",
          "text": [
            "    Periodo  Trimestre     Total  1_salario_minimo  2_salario_minimo  \\\n",
            "0      2017          1  51859895           7442463          14262160   \n",
            "1      2017          2  52198611           7566408          14118747   \n",
            "2      2017          3  52438646           7355639          13682660   \n",
            "3      2017          4  52865845           7926332          14215650   \n",
            "4      2018          1  52876916           8645273          15253962   \n",
            "5      2018          2  53785257           8705172          15287116   \n",
            "6      2018          3  54027997           8547030          15112727   \n",
            "7      2018          4  54194608           8663936          15038091   \n",
            "8      2019          1  54152266          10642543          17141160   \n",
            "9      2019          2  54936719          10891594          17552729   \n",
            "10     2019          3  55201939          10948633          17531173   \n",
            "11     2019          4  55683450          11060229          17578323   \n",
            "12     2020          1  55352304          12533197          19781852   \n",
            "\n",
            "    3_salario_minimo  5_salario_minimo  mas de 5_salario_minimo  \\\n",
            "0           11218801           6601395                  2704520   \n",
            "1           10939869           6555065                  2776570   \n",
            "2           11081749           6695729                  2722520   \n",
            "3           10531765           6695812                  2429320   \n",
            "4            9754514           6707166                  2272438   \n",
            "5            9739678           6936174                  2419355   \n",
            "6            9852659           6908797                  2405725   \n",
            "7           10001777           6921736                  2456938   \n",
            "8            9818858           4522674                  1741491   \n",
            "9            9919901           4437659                  1831552   \n",
            "10          10038381           4629662                  1810804   \n",
            "11          10056100           4972246                  2010414   \n",
            "12           8613773           3715640                  1534613   \n",
            "\n",
            "    No recibe ingresos  No especificado  Total_dolares  \\\n",
            "0              3133797          6496759     2592994.75   \n",
            "1              3337521          6904431     2609930.55   \n",
            "2              3437846          7462503     2621932.30   \n",
            "3              3421033          7645933     2643292.25   \n",
            "4              2965555          7278008     2643845.80   \n",
            "5              3254898          7442864     2689262.85   \n",
            "6              3480221          7720838     2701399.85   \n",
            "7              3344211          7767919     2709730.40   \n",
            "8              3123910          7161630     2707613.30   \n",
            "9              3219868          7083416     2746835.95   \n",
            "10             3485828          6757458     2760096.95   \n",
            "11             3358459          6647679     2784172.50   \n",
            "12             2908620          6264609     2767615.20   \n",
            "\n",
            "    1_salario_minimo_dolares  2_salario_minimo_dolares  \\\n",
            "0                  372123.15                 713108.00   \n",
            "1                  378320.40                 705937.35   \n",
            "2                  367781.95                 684133.00   \n",
            "3                  396316.60                 710782.50   \n",
            "4                  432263.65                 762698.10   \n",
            "5                  435258.60                 764355.80   \n",
            "6                  427351.50                 755636.35   \n",
            "7                  433196.80                 751904.55   \n",
            "8                  532127.15                 857058.00   \n",
            "9                  544579.70                 877636.45   \n",
            "10                 547431.65                 876558.65   \n",
            "11                 553011.45                 878916.15   \n",
            "12                 626659.85                 989092.60   \n",
            "\n",
            "    3_salario_minimo_dolares  5_salario_minimo_dolares  \n",
            "0                  560940.05                 330069.75  \n",
            "1                  546993.45                 327753.25  \n",
            "2                  554087.45                 334786.45  \n",
            "3                  526588.25                 334790.60  \n",
            "4                  487725.70                 335358.30  \n",
            "5                  486983.90                 346808.70  \n",
            "6                  492632.95                 345439.85  \n",
            "7                  500088.85                 346086.80  \n",
            "8                  490942.90                 226133.70  \n",
            "9                  495995.05                 221882.95  \n",
            "10                 501919.05                 231483.10  \n",
            "11                 502805.00                 248612.30  \n",
            "12                 430688.65                 185782.00  \n"
          ]
        }
      ]
    },
    {
      "cell_type": "code",
      "source": [
        "import hashlib\n",
        "\n",
        "df_string = df.to_string()\n",
        "\n",
        "# Calcular el hash MD5\n",
        "md5_hash = hashlib.md5(df_string.encode()).hexdigest()\n",
        "\n",
        "print(\"Token del DataFrame:\")\n",
        "print(md5_hash)"
      ],
      "metadata": {
        "colab": {
          "base_uri": "https://localhost:8080/"
        },
        "id": "Okjq4JN7pYfb",
        "outputId": "6fd4a92b-2c84-4e2f-9bbb-631a8a9e985c"
      },
      "execution_count": 113,
      "outputs": [
        {
          "output_type": "stream",
          "name": "stdout",
          "text": [
            "Token del DataFrame:\n",
            "1927ac386de70057293a5deb7d24e908\n"
          ]
        }
      ]
    }
  ]
}